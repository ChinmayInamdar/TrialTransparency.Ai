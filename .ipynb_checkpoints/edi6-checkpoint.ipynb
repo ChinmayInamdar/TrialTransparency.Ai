{
 "cells": [
  {
   "cell_type": "code",
   "execution_count": null,
   "id": "4bfca9d5-78c3-4506-a5a7-1b1063c7712f",
   "metadata": {},
   "outputs": [],
   "source": [
    "import pandas as pd\n",
    "import matplotlib.pyplot as plt\n",
    "import psycopg2\n",
    "\n",
    "# Establish connection to PostgreSQL\n",
    "conn = psycopg2.connect(\n",
    "    host=\"localhost\",\n",
    "    database=\"edi_clinicaltrials\",\n",
    "    user=\"ediuser\",\n",
    "    password=\"12345\"\n",
    ")\n",
    "\n",
    "def run_query(query):\n",
    "    return pd.read_sql(query, conn)\n"
   ]
  },
  {
   "cell_type": "code",
   "execution_count": null,
   "id": "5186f9c0-a486-4cd3-83ca-ea0a4d468b18",
   "metadata": {},
   "outputs": [],
   "source": [
    "query = \"SELECT id, nct_id, title, brief_summary, overall_status, study_type, updated_date FROM studies LIMIT 20;\"\n",
    "studies_df = run_query(query)\n",
    "studies_df.head()\n"
   ]
  },
  {
   "cell_type": "code",
   "execution_count": null,
   "id": "db913eed-30ac-4b92-9c76-fcfc94ea6a3b",
   "metadata": {},
   "outputs": [],
   "source": [
    "status_counts = studies_df['overall_status'].value_counts()\n",
    "\n",
    "plt.figure(figsize=(8, 6))\n",
    "status_counts.plot(kind='bar')\n",
    "plt.title('Distribution of Study Overall Status')\n",
    "plt.xlabel('Overall Status')\n",
    "plt.ylabel('Number of Studies')\n",
    "plt.show()\n"
   ]
  },
  {
   "cell_type": "code",
   "execution_count": null,
   "id": "aeee88ac-5e02-4f08-bfaa-4c907926deee",
   "metadata": {},
   "outputs": [],
   "source": [
    "sponsors_query = \"SELECT study_id, sponsor_name, sponsor_type FROM sponsors;\"\n",
    "sponsors_df = run_query(sponsors_query)\n",
    "\n",
    "merged_df = pd.merge(studies_df, sponsors_df, left_on='id', right_on='study_id', how='left')\n",
    "merged_df.head()\n"
   ]
  },
  {
   "cell_type": "code",
   "execution_count": null,
   "id": "a87efdad-60b2-4fa4-a8d0-9bcb9f48d069",
   "metadata": {},
   "outputs": [],
   "source": []
  }
 ],
 "metadata": {
  "kernelspec": {
   "display_name": "Python 3 (ipykernel)",
   "language": "python",
   "name": "python3"
  },
  "language_info": {
   "codemirror_mode": {
    "name": "ipython",
    "version": 3
   },
   "file_extension": ".py",
   "mimetype": "text/x-python",
   "name": "python",
   "nbconvert_exporter": "python",
   "pygments_lexer": "ipython3",
   "version": "3.12.3"
  }
 },
 "nbformat": 4,
 "nbformat_minor": 5
}
